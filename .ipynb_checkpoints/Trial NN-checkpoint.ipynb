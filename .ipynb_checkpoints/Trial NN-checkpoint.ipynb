{
 "cells": [
  {
   "cell_type": "markdown",
   "metadata": {},
   "source": [
    "Author: Amr Khaled Zaky <br>\n",
    "Date: 23-10-2019 <br>\n",
    "\n",
    "### My Implementation of Creating a Hand Written Integer Classifier"
   ]
  },
  {
   "cell_type": "code",
   "execution_count": 1,
   "metadata": {},
   "outputs": [],
   "source": [
    "import numpy as np\n",
    "import torch\n",
    "from torch import nn\n",
    "from torch import optim\n",
    "import torch.nn.functional as F\n",
    "from torchvision import datasets, transforms\n",
    "import helper # Helper class provided for visualization"
   ]
  },
  {
   "cell_type": "markdown",
   "metadata": {},
   "source": [
    "# Adding our first neural network, It will classify hand written integers"
   ]
  },
  {
   "cell_type": "code",
   "execution_count": 2,
   "metadata": {},
   "outputs": [
    {
     "name": "stdout",
     "output_type": "stream",
     "text": [
      "Sequential(\n",
      "  (0): Linear(in_features=784, out_features=400, bias=True)\n",
      "  (1): ReLU()\n",
      "  (2): Linear(in_features=400, out_features=200, bias=True)\n",
      "  (3): ReLU()\n",
      "  (4): Linear(in_features=200, out_features=100, bias=True)\n",
      "  (5): ReLU()\n",
      "  (6): Linear(in_features=100, out_features=10, bias=True)\n",
      ")\n"
     ]
    }
   ],
   "source": [
    "input_size = 784 # 28 * 28 images\n",
    "hidden_sizes = [400, 200, 100] # 400 nodes in first hidden layer -> 200 in second -> 100 in third\n",
    "output_size = 10 # Number of possible outputs\n",
    "'''\n",
    "# Building a feed-forward network\n",
    "model = nn.Sequential(nn.Linear(input_size, hidden_sizes[0]),\n",
    "                      nn.ReLU(),\n",
    "                      nn.Linear(hidden_sizes[0], hidden_sizes[1]),\n",
    "                      nn.ReLU(),\n",
    "                      nn.Linear(hidden_sizes[1], hidden_sizes[2]),\n",
    "                      nn.ReLU(), # We can use sigmoid here but Rectified Linear Unit is more accurate.\n",
    "                      nn.Linear(hidden_sizes[2], output_size),\n",
    "                      nn.Softmax(dim=1)) # Softmax: Normalizes output values to give probabilities\n",
    "'''\n",
    "'''\n",
    "In reality: We will not use the softmax at the end because of python's limitation on floating points and\n",
    "most probabilities will have small values close to zero so we will use the raw output.\n",
    "\n",
    "'''\n",
    "dev = torch.device(\"cuda\") if torch.cuda.is_available() else torch.device(\"cpu\") # Defining our GPU device\n",
    "model = nn.Sequential(nn.Linear(input_size, hidden_sizes[0]),\n",
    "                      nn.ReLU(),\n",
    "                      nn.Linear(hidden_sizes[0], hidden_sizes[1]),\n",
    "                      nn.ReLU(),\n",
    "                      nn.Linear(hidden_sizes[1], hidden_sizes[2]),\n",
    "                      nn.ReLU(), # We can use sigmoid here but Rectified Linear Unit is more accurate.\n",
    "                      nn.Linear(hidden_sizes[2], output_size)).to(dev)\n",
    "model.cuda(dev) # Making our model run on the GPU\n",
    "print(model)\n"
   ]
  },
  {
   "cell_type": "markdown",
   "metadata": {},
   "source": [
    "### Importing DataSet:"
   ]
  },
  {
   "cell_type": "code",
   "execution_count": 3,
   "metadata": {},
   "outputs": [],
   "source": [
    "# Define a transform to normalize the data to be in the range [-1, 1]\n",
    "# Normalize: Takes each pixel and applies the following equation --> (value - mean)/ std\n",
    "transform = transforms.Compose([transforms.ToTensor(),\n",
    "                              transforms.Normalize((0.5, ), (0.5, )) #transforms.Normalize((mean), (std)) \n",
    "                             ])\n",
    "# Download and load the training data\n",
    "trainset = datasets.MNIST('MNIST_data/', download=True, train=True, transform=transform)\n",
    "trainloader = torch.utils.data.DataLoader(trainset, batch_size=64, shuffle=True)"
   ]
  },
  {
   "cell_type": "markdown",
   "metadata": {},
   "source": [
    "### Benefits of Adam:\n",
    "\n",
    "* Straightforward to implement.\n",
    "* Computationally efficient.\n",
    "* Little memory requirements.\n",
    "* Invariant to diagonal rescale of the gradients.\n",
    "* Well suited for problems that are large in terms of data and/or parameters.\n",
    "* Appropriate for non-stationary objectives.\n",
    "* Appropriate for problems with very noisy/or sparse gradients.\n",
    "* Hyper-parameters have intuitive interpretation and typically require little tuning."
   ]
  },
  {
   "cell_type": "code",
   "execution_count": 4,
   "metadata": {},
   "outputs": [
    {
     "name": "stdout",
     "output_type": "stream",
     "text": [
      "Epoch: 1/3...  Loss: 1.3880\n",
      "Epoch: 1/3...  Loss: 0.5856\n",
      "Epoch: 1/3...  Loss: 0.4776\n",
      "Epoch: 1/3...  Loss: 0.3904\n",
      "Epoch: 1/3...  Loss: 0.4081\n",
      "Epoch: 1/3...  Loss: 0.3481\n",
      "Epoch: 1/3...  Loss: 0.2907\n",
      "Epoch: 1/3...  Loss: 0.3200\n",
      "Epoch: 1/3...  Loss: 0.3254\n",
      "Epoch: 1/3...  Loss: 0.2964\n",
      "Epoch: 1/3...  Loss: 0.3078\n",
      "Epoch: 1/3...  Loss: 0.2789\n",
      "Epoch: 1/3...  Loss: 0.2314\n",
      "Epoch: 1/3...  Loss: 0.2382\n",
      "Epoch: 1/3...  Loss: 0.2299\n",
      "Epoch: 1/3...  Loss: 0.2363\n",
      "Epoch: 1/3...  Loss: 0.2115\n",
      "Epoch: 1/3...  Loss: 0.2186\n",
      "Epoch: 1/3...  Loss: 0.2155\n",
      "Epoch: 1/3...  Loss: 0.1700\n",
      "Epoch: 1/3...  Loss: 0.2047\n",
      "Epoch: 1/3...  Loss: 0.1823\n",
      "Epoch: 1/3...  Loss: 0.1940\n",
      "Epoch: 2/3...  Loss: 0.0923\n",
      "Epoch: 2/3...  Loss: 0.1557\n",
      "Epoch: 2/3...  Loss: 0.1692\n",
      "Epoch: 2/3...  Loss: 0.1452\n",
      "Epoch: 2/3...  Loss: 0.1782\n",
      "Epoch: 2/3...  Loss: 0.1462\n",
      "Epoch: 2/3...  Loss: 0.1377\n",
      "Epoch: 2/3...  Loss: 0.1566\n",
      "Epoch: 2/3...  Loss: 0.1573\n",
      "Epoch: 2/3...  Loss: 0.1621\n",
      "Epoch: 2/3...  Loss: 0.1484\n",
      "Epoch: 2/3...  Loss: 0.1328\n",
      "Epoch: 2/3...  Loss: 0.1218\n",
      "Epoch: 2/3...  Loss: 0.1398\n",
      "Epoch: 2/3...  Loss: 0.1539\n",
      "Epoch: 2/3...  Loss: 0.1807\n",
      "Epoch: 2/3...  Loss: 0.1471\n",
      "Epoch: 2/3...  Loss: 0.1331\n",
      "Epoch: 2/3...  Loss: 0.1453\n",
      "Epoch: 2/3...  Loss: 0.1431\n",
      "Epoch: 2/3...  Loss: 0.1291\n",
      "Epoch: 2/3...  Loss: 0.1256\n",
      "Epoch: 2/3...  Loss: 0.1324\n",
      "Epoch: 3/3...  Loss: 0.0189\n",
      "Epoch: 3/3...  Loss: 0.1023\n",
      "Epoch: 3/3...  Loss: 0.1015\n",
      "Epoch: 3/3...  Loss: 0.1178\n",
      "Epoch: 3/3...  Loss: 0.1220\n",
      "Epoch: 3/3...  Loss: 0.1243\n",
      "Epoch: 3/3...  Loss: 0.1150\n",
      "Epoch: 3/3...  Loss: 0.1080\n",
      "Epoch: 3/3...  Loss: 0.1289\n",
      "Epoch: 3/3...  Loss: 0.1023\n",
      "Epoch: 3/3...  Loss: 0.0994\n",
      "Epoch: 3/3...  Loss: 0.1196\n",
      "Epoch: 3/3...  Loss: 0.0791\n",
      "Epoch: 3/3...  Loss: 0.0910\n",
      "Epoch: 3/3...  Loss: 0.1109\n",
      "Epoch: 3/3...  Loss: 0.1032\n",
      "Epoch: 3/3...  Loss: 0.1028\n",
      "Epoch: 3/3...  Loss: 0.1104\n",
      "Epoch: 3/3...  Loss: 0.1160\n",
      "Epoch: 3/3...  Loss: 0.0882\n",
      "Epoch: 3/3...  Loss: 0.1284\n",
      "Epoch: 3/3...  Loss: 0.1168\n",
      "Epoch: 3/3...  Loss: 0.1166\n",
      "Epoch: 3/3...  Loss: 0.1021\n"
     ]
    }
   ],
   "source": [
    "# Using Cross Entropy For Loss Function and Stochastic Gradient Descent or Adam for Optimizing Weights:\n",
    "criterion = nn.CrossEntropyLoss()\n",
    "#optimizer = optim.SGD(model.parameters(), lr=0.01)\n",
    "optimizer = optim.Adam(model.parameters(), lr=0.001)\n",
    "\n",
    "epochs = 3\n",
    "print_every = 40\n",
    "steps = 0\n",
    "for e in range(epochs):\n",
    "    running_loss = 0\n",
    "    for images, labels in iter(trainloader):\n",
    "        steps += 1\n",
    "        images = images.to(dev)\n",
    "        labels = labels.to(dev)\n",
    "        # Flatten MNIST images into a 784 long vector\n",
    "        images.resize_(images.size()[0], images[0].shape[1]*images[0].shape[2])\n",
    "        \n",
    "        optimizer.zero_grad() # Clear the gradients as gradients are accumulated\n",
    "        \n",
    "        # Forward and backward passes\n",
    "        \n",
    "        output = model.forward(images)\n",
    "        loss = criterion(output, labels) # Calculate the loss\n",
    "        loss.backward() # backpropagate to get values of the new weights\n",
    "        optimizer.step() # Take a step to update the newly calculated weights\n",
    "        \n",
    "        running_loss += loss.item()\n",
    "        \n",
    "        if steps % print_every == 0:\n",
    "            print(\"Epoch: {}/{}... \".format(e+1, epochs),\n",
    "                  \"Loss: {:.4f}\".format(running_loss/print_every))\n",
    "            \n",
    "            running_loss = 0\n",
    "\n",
    "\n",
    "PATH = './trained_model.pth'\n",
    "torch.save(model.state_dict(), PATH)"
   ]
  },
  {
   "cell_type": "markdown",
   "metadata": {},
   "source": [
    "### After Training Our Network:\n",
    "<br>\n",
    "- We saved our trained model for future reference and usage. <br>\n",
    "- Now we test the trained model by exposing it to new data that it hasn't seen before to test the accuracy"
   ]
  },
  {
   "cell_type": "code",
   "execution_count": 11,
   "metadata": {},
   "outputs": [
    {
     "name": "stdout",
     "output_type": "stream",
     "text": [
      "Actual Number is: 0\n"
     ]
    },
    {
     "data": {
      "image/png": "[encoded data removed]",
      "text/plain": [
       "<Figure size 432x648 with 2 Axes>"
      ]
     },
     "metadata": {
      "needs_background": "light"
     },
     "output_type": "display_data"
    }
   ],
   "source": [
    "# Download and load the training data\n",
    "testset = datasets.MNIST('MNIST_data/', download=True, train=False, transform=transform)\n",
    "testloader = torch.utils.data.DataLoader(testset, batch_size=64, shuffle=True)\n",
    "\n",
    "images, labels = next(iter(testloader))\n",
    "\n",
    "img = images[0].view(1, 784)\n",
    "label = labels[0]\n",
    "\n",
    "# Turn off gradients to speed up this part\n",
    "#with torch.no_grad():\n",
    "img = img.to(dev) # Sending image to GPU\n",
    "label = label.to(dev) # Sending Label to GPU\n",
    "logits = model.forward(img)\n",
    "\n",
    "# Output of the network are logits, need to take softmax for probabilities\n",
    "ps = F.softmax(logits, dim=1)\n",
    "\n",
    "print('Actual Number is: {}'.format(label))\n",
    "helper.view_classify(img.view(1, 28, 28).cpu(), ps.cpu()) # Return Image and Tensor to CPU because numpy doesn't support GPU yet"
   ]
  }
 ],
 "metadata": {
  "kernelspec": {
   "display_name": "Python 3",
   "language": "python",
   "name": "python3"
  },
  "language_info": {
   "codemirror_mode": {
    "name": "ipython",
    "version": 3
   },
   "file_extension": ".py",
   "mimetype": "text/x-python",
   "name": "python",
   "nbconvert_exporter": "python",
   "pygments_lexer": "ipython3",
   "version": "3.7.4"
  }
 },
 "nbformat": 4,
 "nbformat_minor": 2
}
